{
  "nbformat": 4,
  "nbformat_minor": 0,
  "metadata": {
    "colab": {
      "name": "main.py",
      "provenance": [],
      "collapsed_sections": [],
      "authorship_tag": "ABX9TyNmaAcd2DZRShJWg9LusT5i",
      "include_colab_link": true
    },
    "kernelspec": {
      "name": "python3",
      "display_name": "Python 3"
    },
    "language_info": {
      "name": "python"
    }
  },
  "cells": [
    {
      "cell_type": "markdown",
      "metadata": {
        "id": "view-in-github",
        "colab_type": "text"
      },
      "source": [
        "<a href=\"https://colab.research.google.com/github/paaaaat/programming-project/blob/main/main_py.ipynb\" target=\"_parent\"><img src=\"https://colab.research.google.com/assets/colab-badge.svg\" alt=\"Open In Colab\"/></a>"
      ]
    },
    {
      "cell_type": "code",
      "execution_count": 112,
      "metadata": {
        "id": "PxCXAi1hyR_F"
      },
      "outputs": [],
      "source": [
        "import numpy as np\n",
        "import pandas as pd"
      ]
    },
    {
      "cell_type": "code",
      "source": [
        "url = 'https://raw.githubusercontent.com/owid/covid-19-data/master/public/data/owid-covid-data.csv'\n",
        "owid = pd.read_csv(url)"
      ],
      "metadata": {
        "id": "InYsDiOsyV6x"
      },
      "execution_count": 113,
      "outputs": []
    },
    {
      "cell_type": "code",
      "source": [
        "print(owid.info())"
      ],
      "metadata": {
        "colab": {
          "base_uri": "https://localhost:8080/"
        },
        "id": "-APSGwbwyWip",
        "outputId": "d76ff4da-b6d6-4e09-8e94-e7d7f532d625"
      },
      "execution_count": 114,
      "outputs": [
        {
          "output_type": "stream",
          "name": "stdout",
          "text": [
            "<class 'pandas.core.frame.DataFrame'>\n",
            "RangeIndex: 161390 entries, 0 to 161389\n",
            "Data columns (total 67 columns):\n",
            " #   Column                                      Non-Null Count   Dtype  \n",
            "---  ------                                      --------------   -----  \n",
            " 0   iso_code                                    161390 non-null  object \n",
            " 1   continent                                   151707 non-null  object \n",
            " 2   location                                    161390 non-null  object \n",
            " 3   date                                        161390 non-null  object \n",
            " 4   total_cases                                 158502 non-null  float64\n",
            " 5   new_cases                                   158449 non-null  float64\n",
            " 6   new_cases_smoothed                          157298 non-null  float64\n",
            " 7   total_deaths                                140851 non-null  float64\n",
            " 8   new_deaths                                  141018 non-null  float64\n",
            " 9   new_deaths_smoothed                         140888 non-null  float64\n",
            " 10  total_cases_per_million                     157765 non-null  float64\n",
            " 11  new_cases_per_million                       157712 non-null  float64\n",
            " 12  new_cases_smoothed_per_million              156566 non-null  float64\n",
            " 13  total_deaths_per_million                    140127 non-null  float64\n",
            " 14  new_deaths_per_million                      140294 non-null  float64\n",
            " 15  new_deaths_smoothed_per_million             140164 non-null  float64\n",
            " 16  reproduction_rate                           121839 non-null  float64\n",
            " 17  icu_patients                                22712 non-null   float64\n",
            " 18  icu_patients_per_million                    22712 non-null   float64\n",
            " 19  hosp_patients                               23476 non-null   float64\n",
            " 20  hosp_patients_per_million                   23476 non-null   float64\n",
            " 21  weekly_icu_admissions                       5189 non-null    float64\n",
            " 22  weekly_icu_admissions_per_million           5189 non-null    float64\n",
            " 23  weekly_hosp_admissions                      10511 non-null   float64\n",
            " 24  weekly_hosp_admissions_per_million          10511 non-null   float64\n",
            " 25  new_tests                                   66395 non-null   float64\n",
            " 26  total_tests                                 67569 non-null   float64\n",
            " 27  total_tests_per_thousand                    67569 non-null   float64\n",
            " 28  new_tests_per_thousand                      66395 non-null   float64\n",
            " 29  new_tests_smoothed                          81772 non-null   float64\n",
            " 30  new_tests_smoothed_per_thousand             81772 non-null   float64\n",
            " 31  positive_rate                               76518 non-null   float64\n",
            " 32  tests_per_case                              75976 non-null   float64\n",
            " 33  tests_units                                 84023 non-null   object \n",
            " 34  total_vaccinations                          42922 non-null   float64\n",
            " 35  people_vaccinated                           40871 non-null   float64\n",
            " 36  people_fully_vaccinated                     38187 non-null   float64\n",
            " 37  total_boosters                              15688 non-null   float64\n",
            " 38  new_vaccinations                            35556 non-null   float64\n",
            " 39  new_vaccinations_smoothed                   79490 non-null   float64\n",
            " 40  total_vaccinations_per_hundred              42922 non-null   float64\n",
            " 41  people_vaccinated_per_hundred               40871 non-null   float64\n",
            " 42  people_fully_vaccinated_per_hundred         38187 non-null   float64\n",
            " 43  total_boosters_per_hundred                  15688 non-null   float64\n",
            " 44  new_vaccinations_smoothed_per_million       79490 non-null   float64\n",
            " 45  new_people_vaccinated_smoothed              78286 non-null   float64\n",
            " 46  new_people_vaccinated_smoothed_per_hundred  78286 non-null   float64\n",
            " 47  stringency_index                            126199 non-null  float64\n",
            " 48  population                                  160336 non-null  float64\n",
            " 49  population_density                          143651 non-null  float64\n",
            " 50  median_age                                  133876 non-null  float64\n",
            " 51  aged_65_older                               132424 non-null  float64\n",
            " 52  aged_70_older                               133158 non-null  float64\n",
            " 53  gdp_per_capita                              134500 non-null  float64\n",
            " 54  extreme_poverty                             88625 non-null   float64\n",
            " 55  cardiovasc_death_rate                       132844 non-null  float64\n",
            " 56  diabetes_prevalence                         139805 non-null  float64\n",
            " 57  female_smokers                              103019 non-null  float64\n",
            " 58  male_smokers                                101541 non-null  float64\n",
            " 59  handwashing_facilities                      66547 non-null   float64\n",
            " 60  hospital_beds_per_thousand                  120129 non-null  float64\n",
            " 61  life_expectancy                             150646 non-null  float64\n",
            " 62  human_development_index                     132319 non-null  float64\n",
            " 63  excess_mortality_cumulative_absolute        5529 non-null    float64\n",
            " 64  excess_mortality_cumulative                 5529 non-null    float64\n",
            " 65  excess_mortality                            5541 non-null    float64\n",
            " 66  excess_mortality_cumulative_per_million     5529 non-null    float64\n",
            "dtypes: float64(62), object(5)\n",
            "memory usage: 82.5+ MB\n",
            "None\n"
          ]
        }
      ]
    },
    {
      "cell_type": "code",
      "source": [
        "print(owid.shape)"
      ],
      "metadata": {
        "id": "ZcKZjjcvyav2",
        "colab": {
          "base_uri": "https://localhost:8080/"
        },
        "outputId": "925dafb8-756e-4a16-952c-ad85306d3913"
      },
      "execution_count": 115,
      "outputs": [
        {
          "output_type": "stream",
          "name": "stdout",
          "text": [
            "(161390, 67)\n"
          ]
        }
      ]
    },
    {
      "cell_type": "code",
      "source": [
        "cols_to_remove = owid[[column for column in owid.columns if owid[column].count() < 100000]]"
      ],
      "metadata": {
        "id": "khTxQD_4ytwO"
      },
      "execution_count": 116,
      "outputs": []
    },
    {
      "cell_type": "code",
      "source": [
        "owid.drop(cols_to_remove, axis=1, inplace=True)"
      ],
      "metadata": {
        "id": "FAnGL8I327-d"
      },
      "execution_count": 117,
      "outputs": []
    },
    {
      "cell_type": "code",
      "source": [
        "owid.info()"
      ],
      "metadata": {
        "colab": {
          "base_uri": "https://localhost:8080/"
        },
        "id": "1xujRdcB3MDv",
        "outputId": "a3b2b67b-261a-4e43-baa7-e4ade680c2b9"
      },
      "execution_count": 118,
      "outputs": [
        {
          "output_type": "stream",
          "name": "stdout",
          "text": [
            "<class 'pandas.core.frame.DataFrame'>\n",
            "RangeIndex: 161390 entries, 0 to 161389\n",
            "Data columns (total 31 columns):\n",
            " #   Column                           Non-Null Count   Dtype  \n",
            "---  ------                           --------------   -----  \n",
            " 0   iso_code                         161390 non-null  object \n",
            " 1   continent                        151707 non-null  object \n",
            " 2   location                         161390 non-null  object \n",
            " 3   date                             161390 non-null  object \n",
            " 4   total_cases                      158502 non-null  float64\n",
            " 5   new_cases                        158449 non-null  float64\n",
            " 6   new_cases_smoothed               157298 non-null  float64\n",
            " 7   total_deaths                     140851 non-null  float64\n",
            " 8   new_deaths                       141018 non-null  float64\n",
            " 9   new_deaths_smoothed              140888 non-null  float64\n",
            " 10  total_cases_per_million          157765 non-null  float64\n",
            " 11  new_cases_per_million            157712 non-null  float64\n",
            " 12  new_cases_smoothed_per_million   156566 non-null  float64\n",
            " 13  total_deaths_per_million         140127 non-null  float64\n",
            " 14  new_deaths_per_million           140294 non-null  float64\n",
            " 15  new_deaths_smoothed_per_million  140164 non-null  float64\n",
            " 16  reproduction_rate                121839 non-null  float64\n",
            " 17  stringency_index                 126199 non-null  float64\n",
            " 18  population                       160336 non-null  float64\n",
            " 19  population_density               143651 non-null  float64\n",
            " 20  median_age                       133876 non-null  float64\n",
            " 21  aged_65_older                    132424 non-null  float64\n",
            " 22  aged_70_older                    133158 non-null  float64\n",
            " 23  gdp_per_capita                   134500 non-null  float64\n",
            " 24  cardiovasc_death_rate            132844 non-null  float64\n",
            " 25  diabetes_prevalence              139805 non-null  float64\n",
            " 26  female_smokers                   103019 non-null  float64\n",
            " 27  male_smokers                     101541 non-null  float64\n",
            " 28  hospital_beds_per_thousand       120129 non-null  float64\n",
            " 29  life_expectancy                  150646 non-null  float64\n",
            " 30  human_development_index          132319 non-null  float64\n",
            "dtypes: float64(27), object(4)\n",
            "memory usage: 38.2+ MB\n"
          ]
        }
      ]
    },
    {
      "cell_type": "code",
      "source": [
        "owid.drop('iso_code', axis=1, inplace=True)"
      ],
      "metadata": {
        "id": "nl423_Th3NdZ"
      },
      "execution_count": 119,
      "outputs": []
    },
    {
      "cell_type": "code",
      "source": [
        "print(owid[owid['continent'].isnull()])"
      ],
      "metadata": {
        "colab": {
          "base_uri": "https://localhost:8080/"
        },
        "id": "8UivZnRA5CnG",
        "outputId": "6698b970-0989-4974-facc-8ddf95f284a3"
      },
      "execution_count": 120,
      "outputs": [
        {
          "output_type": "stream",
          "name": "stdout",
          "text": [
            "       continent location  ... life_expectancy  human_development_index\n",
            "720          NaN   Africa  ...             NaN                      NaN\n",
            "721          NaN   Africa  ...             NaN                      NaN\n",
            "722          NaN   Africa  ...             NaN                      NaN\n",
            "723          NaN   Africa  ...             NaN                      NaN\n",
            "724          NaN   Africa  ...             NaN                      NaN\n",
            "...          ...      ...  ...             ...                      ...\n",
            "159319       NaN    World  ...           72.58                    0.737\n",
            "159320       NaN    World  ...           72.58                    0.737\n",
            "159321       NaN    World  ...           72.58                    0.737\n",
            "159322       NaN    World  ...           72.58                    0.737\n",
            "159323       NaN    World  ...           72.58                    0.737\n",
            "\n",
            "[9683 rows x 30 columns]\n"
          ]
        }
      ]
    },
    {
      "cell_type": "code",
      "source": [
        "print(owid[owid['continent'].isnull()]['location'].unique())"
      ],
      "metadata": {
        "colab": {
          "base_uri": "https://localhost:8080/"
        },
        "id": "YIKhHqcs5_6r",
        "outputId": "1cfc1c83-c66d-4ea6-fbe7-b144ced38318"
      },
      "execution_count": 121,
      "outputs": [
        {
          "output_type": "stream",
          "name": "stdout",
          "text": [
            "['Africa' 'Asia' 'Europe' 'European Union' 'High income' 'International'\n",
            " 'Low income' 'Lower middle income' 'North America' 'Oceania'\n",
            " 'South America' 'Upper middle income' 'World']\n"
          ]
        }
      ]
    },
    {
      "cell_type": "code",
      "source": [
        "owid['continent'].fillna(value='World', inplace=True)"
      ],
      "metadata": {
        "id": "WP3y-HlB572E"
      },
      "execution_count": 122,
      "outputs": []
    },
    {
      "cell_type": "code",
      "source": [
        "print(str(owid['continent'].count()) + ' true values out of ' + str(len(owid)))"
      ],
      "metadata": {
        "colab": {
          "base_uri": "https://localhost:8080/"
        },
        "id": "UnJ9VlhB7b02",
        "outputId": "4c856621-8551-4d1a-ef13-2563bf8b2979"
      },
      "execution_count": 123,
      "outputs": [
        {
          "output_type": "stream",
          "name": "stdout",
          "text": [
            "161390 true values out of 161390\n"
          ]
        }
      ]
    },
    {
      "cell_type": "code",
      "source": [
        "owid.info()"
      ],
      "metadata": {
        "colab": {
          "base_uri": "https://localhost:8080/"
        },
        "id": "lcxlGELc8ow8",
        "outputId": "0bb3a221-731a-40fc-d0a0-2edbc97d7005"
      },
      "execution_count": 124,
      "outputs": [
        {
          "output_type": "stream",
          "name": "stdout",
          "text": [
            "<class 'pandas.core.frame.DataFrame'>\n",
            "RangeIndex: 161390 entries, 0 to 161389\n",
            "Data columns (total 30 columns):\n",
            " #   Column                           Non-Null Count   Dtype  \n",
            "---  ------                           --------------   -----  \n",
            " 0   continent                        161390 non-null  object \n",
            " 1   location                         161390 non-null  object \n",
            " 2   date                             161390 non-null  object \n",
            " 3   total_cases                      158502 non-null  float64\n",
            " 4   new_cases                        158449 non-null  float64\n",
            " 5   new_cases_smoothed               157298 non-null  float64\n",
            " 6   total_deaths                     140851 non-null  float64\n",
            " 7   new_deaths                       141018 non-null  float64\n",
            " 8   new_deaths_smoothed              140888 non-null  float64\n",
            " 9   total_cases_per_million          157765 non-null  float64\n",
            " 10  new_cases_per_million            157712 non-null  float64\n",
            " 11  new_cases_smoothed_per_million   156566 non-null  float64\n",
            " 12  total_deaths_per_million         140127 non-null  float64\n",
            " 13  new_deaths_per_million           140294 non-null  float64\n",
            " 14  new_deaths_smoothed_per_million  140164 non-null  float64\n",
            " 15  reproduction_rate                121839 non-null  float64\n",
            " 16  stringency_index                 126199 non-null  float64\n",
            " 17  population                       160336 non-null  float64\n",
            " 18  population_density               143651 non-null  float64\n",
            " 19  median_age                       133876 non-null  float64\n",
            " 20  aged_65_older                    132424 non-null  float64\n",
            " 21  aged_70_older                    133158 non-null  float64\n",
            " 22  gdp_per_capita                   134500 non-null  float64\n",
            " 23  cardiovasc_death_rate            132844 non-null  float64\n",
            " 24  diabetes_prevalence              139805 non-null  float64\n",
            " 25  female_smokers                   103019 non-null  float64\n",
            " 26  male_smokers                     101541 non-null  float64\n",
            " 27  hospital_beds_per_thousand       120129 non-null  float64\n",
            " 28  life_expectancy                  150646 non-null  float64\n",
            " 29  human_development_index          132319 non-null  float64\n",
            "dtypes: float64(27), object(3)\n",
            "memory usage: 36.9+ MB\n"
          ]
        }
      ]
    },
    {
      "cell_type": "code",
      "source": [
        "cols_to_remove = [\n",
        "    'new_cases',\n",
        "    'new_deaths',\n",
        "    'new_cases_per_million',\n",
        "    'new_deaths_per_million'\n",
        "    ]"
      ],
      "metadata": {
        "id": "e3Bf6Mm99hsd"
      },
      "execution_count": 125,
      "outputs": []
    },
    {
      "cell_type": "code",
      "source": [
        "owid.drop(cols_to_remove, axis=1, inplace=True)"
      ],
      "metadata": {
        "id": "avYT55VGagJc"
      },
      "execution_count": 126,
      "outputs": []
    },
    {
      "cell_type": "code",
      "source": [
        "owid.info()"
      ],
      "metadata": {
        "colab": {
          "base_uri": "https://localhost:8080/"
        },
        "id": "fsCGlwIXakWM",
        "outputId": "e8acd376-992a-45cf-c3cf-0fe24280b29a"
      },
      "execution_count": 127,
      "outputs": [
        {
          "output_type": "stream",
          "name": "stdout",
          "text": [
            "<class 'pandas.core.frame.DataFrame'>\n",
            "RangeIndex: 161390 entries, 0 to 161389\n",
            "Data columns (total 26 columns):\n",
            " #   Column                           Non-Null Count   Dtype  \n",
            "---  ------                           --------------   -----  \n",
            " 0   continent                        161390 non-null  object \n",
            " 1   location                         161390 non-null  object \n",
            " 2   date                             161390 non-null  object \n",
            " 3   total_cases                      158502 non-null  float64\n",
            " 4   new_cases_smoothed               157298 non-null  float64\n",
            " 5   total_deaths                     140851 non-null  float64\n",
            " 6   new_deaths_smoothed              140888 non-null  float64\n",
            " 7   total_cases_per_million          157765 non-null  float64\n",
            " 8   new_cases_smoothed_per_million   156566 non-null  float64\n",
            " 9   total_deaths_per_million         140127 non-null  float64\n",
            " 10  new_deaths_smoothed_per_million  140164 non-null  float64\n",
            " 11  reproduction_rate                121839 non-null  float64\n",
            " 12  stringency_index                 126199 non-null  float64\n",
            " 13  population                       160336 non-null  float64\n",
            " 14  population_density               143651 non-null  float64\n",
            " 15  median_age                       133876 non-null  float64\n",
            " 16  aged_65_older                    132424 non-null  float64\n",
            " 17  aged_70_older                    133158 non-null  float64\n",
            " 18  gdp_per_capita                   134500 non-null  float64\n",
            " 19  cardiovasc_death_rate            132844 non-null  float64\n",
            " 20  diabetes_prevalence              139805 non-null  float64\n",
            " 21  female_smokers                   103019 non-null  float64\n",
            " 22  male_smokers                     101541 non-null  float64\n",
            " 23  hospital_beds_per_thousand       120129 non-null  float64\n",
            " 24  life_expectancy                  150646 non-null  float64\n",
            " 25  human_development_index          132319 non-null  float64\n",
            "dtypes: float64(23), object(3)\n",
            "memory usage: 32.0+ MB\n"
          ]
        }
      ]
    },
    {
      "cell_type": "code",
      "source": [
        "owid[owid['total_cases'].isnull()]['location'].unique()"
      ],
      "metadata": {
        "colab": {
          "base_uri": "https://localhost:8080/"
        },
        "id": "xMrFcAPebP8v",
        "outputId": "b9905f3f-d8dd-46af-a3dd-dea11485a4ec"
      },
      "execution_count": 128,
      "outputs": [
        {
          "output_type": "execute_result",
          "data": {
            "text/plain": [
              "array(['Africa', 'Albania', 'Argentina', 'Bangladesh', 'Cyprus',\n",
              "       'Denmark', 'Estonia', 'Europe', 'European Union', 'Fiji', 'Greece',\n",
              "       'Guatemala', 'Guernsey', 'Hungary', 'Israel', 'Jersey', 'Kenya',\n",
              "       'Latvia', 'Libya', 'Low income', 'Lower middle income',\n",
              "       'Luxembourg', 'Malawi', 'Malaysia', 'Malta', 'Mexico', 'Morocco',\n",
              "       'Nauru', 'Niue', 'Northern Cyprus', 'Norway', 'Oceania', 'Panama',\n",
              "       'Paraguay', 'Peru', 'Pitcairn', 'Portugal', 'Senegal', 'Serbia',\n",
              "       'Sint Maarten (Dutch part)', 'Slovenia', 'South Africa',\n",
              "       'South America', 'Sudan', 'Taiwan', 'Thailand', 'Togo', 'Tokelau',\n",
              "       'Tonga', 'Turkmenistan', 'Tuvalu'], dtype=object)"
            ]
          },
          "metadata": {},
          "execution_count": 128
        }
      ]
    },
    {
      "cell_type": "code",
      "source": [
        "owid[owid['location'] == 'Albania'].head()"
      ],
      "metadata": {
        "colab": {
          "base_uri": "https://localhost:8080/",
          "height": 357
        },
        "id": "Yvws6r_ubtvT",
        "outputId": "a43c64ef-270a-49cd-de7b-9c2a2285a74c"
      },
      "execution_count": 129,
      "outputs": [
        {
          "output_type": "execute_result",
          "data": {
            "text/html": [
              "\n",
              "  <div id=\"df-4927d959-c76f-4448-a4d2-a6edc23c8411\">\n",
              "    <div class=\"colab-df-container\">\n",
              "      <div>\n",
              "<style scoped>\n",
              "    .dataframe tbody tr th:only-of-type {\n",
              "        vertical-align: middle;\n",
              "    }\n",
              "\n",
              "    .dataframe tbody tr th {\n",
              "        vertical-align: top;\n",
              "    }\n",
              "\n",
              "    .dataframe thead th {\n",
              "        text-align: right;\n",
              "    }\n",
              "</style>\n",
              "<table border=\"1\" class=\"dataframe\">\n",
              "  <thead>\n",
              "    <tr style=\"text-align: right;\">\n",
              "      <th></th>\n",
              "      <th>continent</th>\n",
              "      <th>location</th>\n",
              "      <th>date</th>\n",
              "      <th>total_cases</th>\n",
              "      <th>new_cases_smoothed</th>\n",
              "      <th>total_deaths</th>\n",
              "      <th>new_deaths_smoothed</th>\n",
              "      <th>total_cases_per_million</th>\n",
              "      <th>new_cases_smoothed_per_million</th>\n",
              "      <th>total_deaths_per_million</th>\n",
              "      <th>new_deaths_smoothed_per_million</th>\n",
              "      <th>reproduction_rate</th>\n",
              "      <th>stringency_index</th>\n",
              "      <th>population</th>\n",
              "      <th>population_density</th>\n",
              "      <th>median_age</th>\n",
              "      <th>aged_65_older</th>\n",
              "      <th>aged_70_older</th>\n",
              "      <th>gdp_per_capita</th>\n",
              "      <th>cardiovasc_death_rate</th>\n",
              "      <th>diabetes_prevalence</th>\n",
              "      <th>female_smokers</th>\n",
              "      <th>male_smokers</th>\n",
              "      <th>hospital_beds_per_thousand</th>\n",
              "      <th>life_expectancy</th>\n",
              "      <th>human_development_index</th>\n",
              "    </tr>\n",
              "  </thead>\n",
              "  <tbody>\n",
              "    <tr>\n",
              "      <th>1451</th>\n",
              "      <td>Europe</td>\n",
              "      <td>Albania</td>\n",
              "      <td>2020-02-25</td>\n",
              "      <td>NaN</td>\n",
              "      <td>NaN</td>\n",
              "      <td>NaN</td>\n",
              "      <td>NaN</td>\n",
              "      <td>NaN</td>\n",
              "      <td>NaN</td>\n",
              "      <td>NaN</td>\n",
              "      <td>NaN</td>\n",
              "      <td>NaN</td>\n",
              "      <td>8.33</td>\n",
              "      <td>2872934.0</td>\n",
              "      <td>104.871</td>\n",
              "      <td>38.0</td>\n",
              "      <td>13.188</td>\n",
              "      <td>8.643</td>\n",
              "      <td>11803.431</td>\n",
              "      <td>304.195</td>\n",
              "      <td>10.08</td>\n",
              "      <td>7.1</td>\n",
              "      <td>51.2</td>\n",
              "      <td>2.89</td>\n",
              "      <td>78.57</td>\n",
              "      <td>0.795</td>\n",
              "    </tr>\n",
              "    <tr>\n",
              "      <th>1452</th>\n",
              "      <td>Europe</td>\n",
              "      <td>Albania</td>\n",
              "      <td>2020-02-26</td>\n",
              "      <td>NaN</td>\n",
              "      <td>NaN</td>\n",
              "      <td>NaN</td>\n",
              "      <td>NaN</td>\n",
              "      <td>NaN</td>\n",
              "      <td>NaN</td>\n",
              "      <td>NaN</td>\n",
              "      <td>NaN</td>\n",
              "      <td>NaN</td>\n",
              "      <td>8.33</td>\n",
              "      <td>2872934.0</td>\n",
              "      <td>104.871</td>\n",
              "      <td>38.0</td>\n",
              "      <td>13.188</td>\n",
              "      <td>8.643</td>\n",
              "      <td>11803.431</td>\n",
              "      <td>304.195</td>\n",
              "      <td>10.08</td>\n",
              "      <td>7.1</td>\n",
              "      <td>51.2</td>\n",
              "      <td>2.89</td>\n",
              "      <td>78.57</td>\n",
              "      <td>0.795</td>\n",
              "    </tr>\n",
              "    <tr>\n",
              "      <th>1453</th>\n",
              "      <td>Europe</td>\n",
              "      <td>Albania</td>\n",
              "      <td>2020-02-27</td>\n",
              "      <td>NaN</td>\n",
              "      <td>NaN</td>\n",
              "      <td>NaN</td>\n",
              "      <td>NaN</td>\n",
              "      <td>NaN</td>\n",
              "      <td>NaN</td>\n",
              "      <td>NaN</td>\n",
              "      <td>NaN</td>\n",
              "      <td>NaN</td>\n",
              "      <td>8.33</td>\n",
              "      <td>2872934.0</td>\n",
              "      <td>104.871</td>\n",
              "      <td>38.0</td>\n",
              "      <td>13.188</td>\n",
              "      <td>8.643</td>\n",
              "      <td>11803.431</td>\n",
              "      <td>304.195</td>\n",
              "      <td>10.08</td>\n",
              "      <td>7.1</td>\n",
              "      <td>51.2</td>\n",
              "      <td>2.89</td>\n",
              "      <td>78.57</td>\n",
              "      <td>0.795</td>\n",
              "    </tr>\n",
              "    <tr>\n",
              "      <th>1454</th>\n",
              "      <td>Europe</td>\n",
              "      <td>Albania</td>\n",
              "      <td>2020-02-28</td>\n",
              "      <td>NaN</td>\n",
              "      <td>NaN</td>\n",
              "      <td>NaN</td>\n",
              "      <td>NaN</td>\n",
              "      <td>NaN</td>\n",
              "      <td>NaN</td>\n",
              "      <td>NaN</td>\n",
              "      <td>NaN</td>\n",
              "      <td>NaN</td>\n",
              "      <td>8.33</td>\n",
              "      <td>2872934.0</td>\n",
              "      <td>104.871</td>\n",
              "      <td>38.0</td>\n",
              "      <td>13.188</td>\n",
              "      <td>8.643</td>\n",
              "      <td>11803.431</td>\n",
              "      <td>304.195</td>\n",
              "      <td>10.08</td>\n",
              "      <td>7.1</td>\n",
              "      <td>51.2</td>\n",
              "      <td>2.89</td>\n",
              "      <td>78.57</td>\n",
              "      <td>0.795</td>\n",
              "    </tr>\n",
              "    <tr>\n",
              "      <th>1455</th>\n",
              "      <td>Europe</td>\n",
              "      <td>Albania</td>\n",
              "      <td>2020-02-29</td>\n",
              "      <td>NaN</td>\n",
              "      <td>NaN</td>\n",
              "      <td>NaN</td>\n",
              "      <td>NaN</td>\n",
              "      <td>NaN</td>\n",
              "      <td>NaN</td>\n",
              "      <td>NaN</td>\n",
              "      <td>NaN</td>\n",
              "      <td>NaN</td>\n",
              "      <td>8.33</td>\n",
              "      <td>2872934.0</td>\n",
              "      <td>104.871</td>\n",
              "      <td>38.0</td>\n",
              "      <td>13.188</td>\n",
              "      <td>8.643</td>\n",
              "      <td>11803.431</td>\n",
              "      <td>304.195</td>\n",
              "      <td>10.08</td>\n",
              "      <td>7.1</td>\n",
              "      <td>51.2</td>\n",
              "      <td>2.89</td>\n",
              "      <td>78.57</td>\n",
              "      <td>0.795</td>\n",
              "    </tr>\n",
              "  </tbody>\n",
              "</table>\n",
              "</div>\n",
              "      <button class=\"colab-df-convert\" onclick=\"convertToInteractive('df-4927d959-c76f-4448-a4d2-a6edc23c8411')\"\n",
              "              title=\"Convert this dataframe to an interactive table.\"\n",
              "              style=\"display:none;\">\n",
              "        \n",
              "  <svg xmlns=\"http://www.w3.org/2000/svg\" height=\"24px\"viewBox=\"0 0 24 24\"\n",
              "       width=\"24px\">\n",
              "    <path d=\"M0 0h24v24H0V0z\" fill=\"none\"/>\n",
              "    <path d=\"M18.56 5.44l.94 2.06.94-2.06 2.06-.94-2.06-.94-.94-2.06-.94 2.06-2.06.94zm-11 1L8.5 8.5l.94-2.06 2.06-.94-2.06-.94L8.5 2.5l-.94 2.06-2.06.94zm10 10l.94 2.06.94-2.06 2.06-.94-2.06-.94-.94-2.06-.94 2.06-2.06.94z\"/><path d=\"M17.41 7.96l-1.37-1.37c-.4-.4-.92-.59-1.43-.59-.52 0-1.04.2-1.43.59L10.3 9.45l-7.72 7.72c-.78.78-.78 2.05 0 2.83L4 21.41c.39.39.9.59 1.41.59.51 0 1.02-.2 1.41-.59l7.78-7.78 2.81-2.81c.8-.78.8-2.07 0-2.86zM5.41 20L4 18.59l7.72-7.72 1.47 1.35L5.41 20z\"/>\n",
              "  </svg>\n",
              "      </button>\n",
              "      \n",
              "  <style>\n",
              "    .colab-df-container {\n",
              "      display:flex;\n",
              "      flex-wrap:wrap;\n",
              "      gap: 12px;\n",
              "    }\n",
              "\n",
              "    .colab-df-convert {\n",
              "      background-color: #E8F0FE;\n",
              "      border: none;\n",
              "      border-radius: 50%;\n",
              "      cursor: pointer;\n",
              "      display: none;\n",
              "      fill: #1967D2;\n",
              "      height: 32px;\n",
              "      padding: 0 0 0 0;\n",
              "      width: 32px;\n",
              "    }\n",
              "\n",
              "    .colab-df-convert:hover {\n",
              "      background-color: #E2EBFA;\n",
              "      box-shadow: 0px 1px 2px rgba(60, 64, 67, 0.3), 0px 1px 3px 1px rgba(60, 64, 67, 0.15);\n",
              "      fill: #174EA6;\n",
              "    }\n",
              "\n",
              "    [theme=dark] .colab-df-convert {\n",
              "      background-color: #3B4455;\n",
              "      fill: #D2E3FC;\n",
              "    }\n",
              "\n",
              "    [theme=dark] .colab-df-convert:hover {\n",
              "      background-color: #434B5C;\n",
              "      box-shadow: 0px 1px 3px 1px rgba(0, 0, 0, 0.15);\n",
              "      filter: drop-shadow(0px 1px 2px rgba(0, 0, 0, 0.3));\n",
              "      fill: #FFFFFF;\n",
              "    }\n",
              "  </style>\n",
              "\n",
              "      <script>\n",
              "        const buttonEl =\n",
              "          document.querySelector('#df-4927d959-c76f-4448-a4d2-a6edc23c8411 button.colab-df-convert');\n",
              "        buttonEl.style.display =\n",
              "          google.colab.kernel.accessAllowed ? 'block' : 'none';\n",
              "\n",
              "        async function convertToInteractive(key) {\n",
              "          const element = document.querySelector('#df-4927d959-c76f-4448-a4d2-a6edc23c8411');\n",
              "          const dataTable =\n",
              "            await google.colab.kernel.invokeFunction('convertToInteractive',\n",
              "                                                     [key], {});\n",
              "          if (!dataTable) return;\n",
              "\n",
              "          const docLinkHtml = 'Like what you see? Visit the ' +\n",
              "            '<a target=\"_blank\" href=https://colab.research.google.com/notebooks/data_table.ipynb>data table notebook</a>'\n",
              "            + ' to learn more about interactive tables.';\n",
              "          element.innerHTML = '';\n",
              "          dataTable['output_type'] = 'display_data';\n",
              "          await google.colab.output.renderOutput(dataTable, element);\n",
              "          const docLink = document.createElement('div');\n",
              "          docLink.innerHTML = docLinkHtml;\n",
              "          element.appendChild(docLink);\n",
              "        }\n",
              "      </script>\n",
              "    </div>\n",
              "  </div>\n",
              "  "
            ],
            "text/plain": [
              "     continent location  ... life_expectancy  human_development_index\n",
              "1451    Europe  Albania  ...           78.57                    0.795\n",
              "1452    Europe  Albania  ...           78.57                    0.795\n",
              "1453    Europe  Albania  ...           78.57                    0.795\n",
              "1454    Europe  Albania  ...           78.57                    0.795\n",
              "1455    Europe  Albania  ...           78.57                    0.795\n",
              "\n",
              "[5 rows x 26 columns]"
            ]
          },
          "metadata": {},
          "execution_count": 129
        }
      ]
    },
    {
      "cell_type": "code",
      "source": [
        "owid[owid['location'] == 'Taiwan'].head()"
      ],
      "metadata": {
        "colab": {
          "base_uri": "https://localhost:8080/",
          "height": 357
        },
        "id": "aDn6_dRDdBZ5",
        "outputId": "253d2b48-1cca-4d9a-8cd5-a7093fda5dc9"
      },
      "execution_count": 130,
      "outputs": [
        {
          "output_type": "execute_result",
          "data": {
            "text/html": [
              "\n",
              "  <div id=\"df-803ae883-5951-473a-8dd0-563af39b081d\">\n",
              "    <div class=\"colab-df-container\">\n",
              "      <div>\n",
              "<style scoped>\n",
              "    .dataframe tbody tr th:only-of-type {\n",
              "        vertical-align: middle;\n",
              "    }\n",
              "\n",
              "    .dataframe tbody tr th {\n",
              "        vertical-align: top;\n",
              "    }\n",
              "\n",
              "    .dataframe thead th {\n",
              "        text-align: right;\n",
              "    }\n",
              "</style>\n",
              "<table border=\"1\" class=\"dataframe\">\n",
              "  <thead>\n",
              "    <tr style=\"text-align: right;\">\n",
              "      <th></th>\n",
              "      <th>continent</th>\n",
              "      <th>location</th>\n",
              "      <th>date</th>\n",
              "      <th>total_cases</th>\n",
              "      <th>new_cases_smoothed</th>\n",
              "      <th>total_deaths</th>\n",
              "      <th>new_deaths_smoothed</th>\n",
              "      <th>total_cases_per_million</th>\n",
              "      <th>new_cases_smoothed_per_million</th>\n",
              "      <th>total_deaths_per_million</th>\n",
              "      <th>new_deaths_smoothed_per_million</th>\n",
              "      <th>reproduction_rate</th>\n",
              "      <th>stringency_index</th>\n",
              "      <th>population</th>\n",
              "      <th>population_density</th>\n",
              "      <th>median_age</th>\n",
              "      <th>aged_65_older</th>\n",
              "      <th>aged_70_older</th>\n",
              "      <th>gdp_per_capita</th>\n",
              "      <th>cardiovasc_death_rate</th>\n",
              "      <th>diabetes_prevalence</th>\n",
              "      <th>female_smokers</th>\n",
              "      <th>male_smokers</th>\n",
              "      <th>hospital_beds_per_thousand</th>\n",
              "      <th>life_expectancy</th>\n",
              "      <th>human_development_index</th>\n",
              "    </tr>\n",
              "  </thead>\n",
              "  <tbody>\n",
              "    <tr>\n",
              "      <th>141799</th>\n",
              "      <td>Asia</td>\n",
              "      <td>Taiwan</td>\n",
              "      <td>2020-01-16</td>\n",
              "      <td>NaN</td>\n",
              "      <td>NaN</td>\n",
              "      <td>NaN</td>\n",
              "      <td>NaN</td>\n",
              "      <td>NaN</td>\n",
              "      <td>NaN</td>\n",
              "      <td>NaN</td>\n",
              "      <td>NaN</td>\n",
              "      <td>NaN</td>\n",
              "      <td>8.33</td>\n",
              "      <td>23855008.0</td>\n",
              "      <td>NaN</td>\n",
              "      <td>42.2</td>\n",
              "      <td>NaN</td>\n",
              "      <td>8.353</td>\n",
              "      <td>NaN</td>\n",
              "      <td>103.957</td>\n",
              "      <td>NaN</td>\n",
              "      <td>NaN</td>\n",
              "      <td>NaN</td>\n",
              "      <td>NaN</td>\n",
              "      <td>80.46</td>\n",
              "      <td>NaN</td>\n",
              "    </tr>\n",
              "    <tr>\n",
              "      <th>141800</th>\n",
              "      <td>Asia</td>\n",
              "      <td>Taiwan</td>\n",
              "      <td>2020-01-17</td>\n",
              "      <td>NaN</td>\n",
              "      <td>NaN</td>\n",
              "      <td>NaN</td>\n",
              "      <td>NaN</td>\n",
              "      <td>NaN</td>\n",
              "      <td>NaN</td>\n",
              "      <td>NaN</td>\n",
              "      <td>NaN</td>\n",
              "      <td>NaN</td>\n",
              "      <td>8.33</td>\n",
              "      <td>23855008.0</td>\n",
              "      <td>NaN</td>\n",
              "      <td>42.2</td>\n",
              "      <td>NaN</td>\n",
              "      <td>8.353</td>\n",
              "      <td>NaN</td>\n",
              "      <td>103.957</td>\n",
              "      <td>NaN</td>\n",
              "      <td>NaN</td>\n",
              "      <td>NaN</td>\n",
              "      <td>NaN</td>\n",
              "      <td>80.46</td>\n",
              "      <td>NaN</td>\n",
              "    </tr>\n",
              "    <tr>\n",
              "      <th>141801</th>\n",
              "      <td>Asia</td>\n",
              "      <td>Taiwan</td>\n",
              "      <td>2020-01-18</td>\n",
              "      <td>NaN</td>\n",
              "      <td>NaN</td>\n",
              "      <td>NaN</td>\n",
              "      <td>NaN</td>\n",
              "      <td>NaN</td>\n",
              "      <td>NaN</td>\n",
              "      <td>NaN</td>\n",
              "      <td>NaN</td>\n",
              "      <td>NaN</td>\n",
              "      <td>8.33</td>\n",
              "      <td>23855008.0</td>\n",
              "      <td>NaN</td>\n",
              "      <td>42.2</td>\n",
              "      <td>NaN</td>\n",
              "      <td>8.353</td>\n",
              "      <td>NaN</td>\n",
              "      <td>103.957</td>\n",
              "      <td>NaN</td>\n",
              "      <td>NaN</td>\n",
              "      <td>NaN</td>\n",
              "      <td>NaN</td>\n",
              "      <td>80.46</td>\n",
              "      <td>NaN</td>\n",
              "    </tr>\n",
              "    <tr>\n",
              "      <th>141802</th>\n",
              "      <td>Asia</td>\n",
              "      <td>Taiwan</td>\n",
              "      <td>2020-01-19</td>\n",
              "      <td>NaN</td>\n",
              "      <td>NaN</td>\n",
              "      <td>NaN</td>\n",
              "      <td>NaN</td>\n",
              "      <td>NaN</td>\n",
              "      <td>NaN</td>\n",
              "      <td>NaN</td>\n",
              "      <td>NaN</td>\n",
              "      <td>NaN</td>\n",
              "      <td>8.33</td>\n",
              "      <td>23855008.0</td>\n",
              "      <td>NaN</td>\n",
              "      <td>42.2</td>\n",
              "      <td>NaN</td>\n",
              "      <td>8.353</td>\n",
              "      <td>NaN</td>\n",
              "      <td>103.957</td>\n",
              "      <td>NaN</td>\n",
              "      <td>NaN</td>\n",
              "      <td>NaN</td>\n",
              "      <td>NaN</td>\n",
              "      <td>80.46</td>\n",
              "      <td>NaN</td>\n",
              "    </tr>\n",
              "    <tr>\n",
              "      <th>141803</th>\n",
              "      <td>Asia</td>\n",
              "      <td>Taiwan</td>\n",
              "      <td>2020-01-20</td>\n",
              "      <td>NaN</td>\n",
              "      <td>NaN</td>\n",
              "      <td>NaN</td>\n",
              "      <td>NaN</td>\n",
              "      <td>NaN</td>\n",
              "      <td>NaN</td>\n",
              "      <td>NaN</td>\n",
              "      <td>NaN</td>\n",
              "      <td>NaN</td>\n",
              "      <td>13.89</td>\n",
              "      <td>23855008.0</td>\n",
              "      <td>NaN</td>\n",
              "      <td>42.2</td>\n",
              "      <td>NaN</td>\n",
              "      <td>8.353</td>\n",
              "      <td>NaN</td>\n",
              "      <td>103.957</td>\n",
              "      <td>NaN</td>\n",
              "      <td>NaN</td>\n",
              "      <td>NaN</td>\n",
              "      <td>NaN</td>\n",
              "      <td>80.46</td>\n",
              "      <td>NaN</td>\n",
              "    </tr>\n",
              "  </tbody>\n",
              "</table>\n",
              "</div>\n",
              "      <button class=\"colab-df-convert\" onclick=\"convertToInteractive('df-803ae883-5951-473a-8dd0-563af39b081d')\"\n",
              "              title=\"Convert this dataframe to an interactive table.\"\n",
              "              style=\"display:none;\">\n",
              "        \n",
              "  <svg xmlns=\"http://www.w3.org/2000/svg\" height=\"24px\"viewBox=\"0 0 24 24\"\n",
              "       width=\"24px\">\n",
              "    <path d=\"M0 0h24v24H0V0z\" fill=\"none\"/>\n",
              "    <path d=\"M18.56 5.44l.94 2.06.94-2.06 2.06-.94-2.06-.94-.94-2.06-.94 2.06-2.06.94zm-11 1L8.5 8.5l.94-2.06 2.06-.94-2.06-.94L8.5 2.5l-.94 2.06-2.06.94zm10 10l.94 2.06.94-2.06 2.06-.94-2.06-.94-.94-2.06-.94 2.06-2.06.94z\"/><path d=\"M17.41 7.96l-1.37-1.37c-.4-.4-.92-.59-1.43-.59-.52 0-1.04.2-1.43.59L10.3 9.45l-7.72 7.72c-.78.78-.78 2.05 0 2.83L4 21.41c.39.39.9.59 1.41.59.51 0 1.02-.2 1.41-.59l7.78-7.78 2.81-2.81c.8-.78.8-2.07 0-2.86zM5.41 20L4 18.59l7.72-7.72 1.47 1.35L5.41 20z\"/>\n",
              "  </svg>\n",
              "      </button>\n",
              "      \n",
              "  <style>\n",
              "    .colab-df-container {\n",
              "      display:flex;\n",
              "      flex-wrap:wrap;\n",
              "      gap: 12px;\n",
              "    }\n",
              "\n",
              "    .colab-df-convert {\n",
              "      background-color: #E8F0FE;\n",
              "      border: none;\n",
              "      border-radius: 50%;\n",
              "      cursor: pointer;\n",
              "      display: none;\n",
              "      fill: #1967D2;\n",
              "      height: 32px;\n",
              "      padding: 0 0 0 0;\n",
              "      width: 32px;\n",
              "    }\n",
              "\n",
              "    .colab-df-convert:hover {\n",
              "      background-color: #E2EBFA;\n",
              "      box-shadow: 0px 1px 2px rgba(60, 64, 67, 0.3), 0px 1px 3px 1px rgba(60, 64, 67, 0.15);\n",
              "      fill: #174EA6;\n",
              "    }\n",
              "\n",
              "    [theme=dark] .colab-df-convert {\n",
              "      background-color: #3B4455;\n",
              "      fill: #D2E3FC;\n",
              "    }\n",
              "\n",
              "    [theme=dark] .colab-df-convert:hover {\n",
              "      background-color: #434B5C;\n",
              "      box-shadow: 0px 1px 3px 1px rgba(0, 0, 0, 0.15);\n",
              "      filter: drop-shadow(0px 1px 2px rgba(0, 0, 0, 0.3));\n",
              "      fill: #FFFFFF;\n",
              "    }\n",
              "  </style>\n",
              "\n",
              "      <script>\n",
              "        const buttonEl =\n",
              "          document.querySelector('#df-803ae883-5951-473a-8dd0-563af39b081d button.colab-df-convert');\n",
              "        buttonEl.style.display =\n",
              "          google.colab.kernel.accessAllowed ? 'block' : 'none';\n",
              "\n",
              "        async function convertToInteractive(key) {\n",
              "          const element = document.querySelector('#df-803ae883-5951-473a-8dd0-563af39b081d');\n",
              "          const dataTable =\n",
              "            await google.colab.kernel.invokeFunction('convertToInteractive',\n",
              "                                                     [key], {});\n",
              "          if (!dataTable) return;\n",
              "\n",
              "          const docLinkHtml = 'Like what you see? Visit the ' +\n",
              "            '<a target=\"_blank\" href=https://colab.research.google.com/notebooks/data_table.ipynb>data table notebook</a>'\n",
              "            + ' to learn more about interactive tables.';\n",
              "          element.innerHTML = '';\n",
              "          dataTable['output_type'] = 'display_data';\n",
              "          await google.colab.output.renderOutput(dataTable, element);\n",
              "          const docLink = document.createElement('div');\n",
              "          docLink.innerHTML = docLinkHtml;\n",
              "          element.appendChild(docLink);\n",
              "        }\n",
              "      </script>\n",
              "    </div>\n",
              "  </div>\n",
              "  "
            ],
            "text/plain": [
              "       continent location  ... life_expectancy  human_development_index\n",
              "141799      Asia   Taiwan  ...           80.46                      NaN\n",
              "141800      Asia   Taiwan  ...           80.46                      NaN\n",
              "141801      Asia   Taiwan  ...           80.46                      NaN\n",
              "141802      Asia   Taiwan  ...           80.46                      NaN\n",
              "141803      Asia   Taiwan  ...           80.46                      NaN\n",
              "\n",
              "[5 rows x 26 columns]"
            ]
          },
          "metadata": {},
          "execution_count": 130
        }
      ]
    },
    {
      "cell_type": "code",
      "source": [
        "owid[owid['location'] == 'Taiwan'].tail()"
      ],
      "metadata": {
        "colab": {
          "base_uri": "https://localhost:8080/",
          "height": 357
        },
        "id": "IBQgx2dGdFpM",
        "outputId": "2fdb2eb5-6a6c-496a-cd13-1ff511341d6f"
      },
      "execution_count": 131,
      "outputs": [
        {
          "output_type": "execute_result",
          "data": {
            "text/html": [
              "\n",
              "  <div id=\"df-2a0da7bf-226d-4023-9f35-6b4f24dd9244\">\n",
              "    <div class=\"colab-df-container\">\n",
              "      <div>\n",
              "<style scoped>\n",
              "    .dataframe tbody tr th:only-of-type {\n",
              "        vertical-align: middle;\n",
              "    }\n",
              "\n",
              "    .dataframe tbody tr th {\n",
              "        vertical-align: top;\n",
              "    }\n",
              "\n",
              "    .dataframe thead th {\n",
              "        text-align: right;\n",
              "    }\n",
              "</style>\n",
              "<table border=\"1\" class=\"dataframe\">\n",
              "  <thead>\n",
              "    <tr style=\"text-align: right;\">\n",
              "      <th></th>\n",
              "      <th>continent</th>\n",
              "      <th>location</th>\n",
              "      <th>date</th>\n",
              "      <th>total_cases</th>\n",
              "      <th>new_cases_smoothed</th>\n",
              "      <th>total_deaths</th>\n",
              "      <th>new_deaths_smoothed</th>\n",
              "      <th>total_cases_per_million</th>\n",
              "      <th>new_cases_smoothed_per_million</th>\n",
              "      <th>total_deaths_per_million</th>\n",
              "      <th>new_deaths_smoothed_per_million</th>\n",
              "      <th>reproduction_rate</th>\n",
              "      <th>stringency_index</th>\n",
              "      <th>population</th>\n",
              "      <th>population_density</th>\n",
              "      <th>median_age</th>\n",
              "      <th>aged_65_older</th>\n",
              "      <th>aged_70_older</th>\n",
              "      <th>gdp_per_capita</th>\n",
              "      <th>cardiovasc_death_rate</th>\n",
              "      <th>diabetes_prevalence</th>\n",
              "      <th>female_smokers</th>\n",
              "      <th>male_smokers</th>\n",
              "      <th>hospital_beds_per_thousand</th>\n",
              "      <th>life_expectancy</th>\n",
              "      <th>human_development_index</th>\n",
              "    </tr>\n",
              "  </thead>\n",
              "  <tbody>\n",
              "    <tr>\n",
              "      <th>142553</th>\n",
              "      <td>Asia</td>\n",
              "      <td>Taiwan</td>\n",
              "      <td>2022-02-08</td>\n",
              "      <td>19239.0</td>\n",
              "      <td>55.571</td>\n",
              "      <td>851.0</td>\n",
              "      <td>0.0</td>\n",
              "      <td>806.497</td>\n",
              "      <td>2.330</td>\n",
              "      <td>35.674</td>\n",
              "      <td>0.0</td>\n",
              "      <td>1.01</td>\n",
              "      <td>NaN</td>\n",
              "      <td>23855008.0</td>\n",
              "      <td>NaN</td>\n",
              "      <td>42.2</td>\n",
              "      <td>NaN</td>\n",
              "      <td>8.353</td>\n",
              "      <td>NaN</td>\n",
              "      <td>103.957</td>\n",
              "      <td>NaN</td>\n",
              "      <td>NaN</td>\n",
              "      <td>NaN</td>\n",
              "      <td>NaN</td>\n",
              "      <td>80.46</td>\n",
              "      <td>NaN</td>\n",
              "    </tr>\n",
              "    <tr>\n",
              "      <th>142554</th>\n",
              "      <td>Asia</td>\n",
              "      <td>Taiwan</td>\n",
              "      <td>2022-02-09</td>\n",
              "      <td>19293.0</td>\n",
              "      <td>55.714</td>\n",
              "      <td>851.0</td>\n",
              "      <td>0.0</td>\n",
              "      <td>808.761</td>\n",
              "      <td>2.336</td>\n",
              "      <td>35.674</td>\n",
              "      <td>0.0</td>\n",
              "      <td>1.01</td>\n",
              "      <td>NaN</td>\n",
              "      <td>23855008.0</td>\n",
              "      <td>NaN</td>\n",
              "      <td>42.2</td>\n",
              "      <td>NaN</td>\n",
              "      <td>8.353</td>\n",
              "      <td>NaN</td>\n",
              "      <td>103.957</td>\n",
              "      <td>NaN</td>\n",
              "      <td>NaN</td>\n",
              "      <td>NaN</td>\n",
              "      <td>NaN</td>\n",
              "      <td>80.46</td>\n",
              "      <td>NaN</td>\n",
              "    </tr>\n",
              "    <tr>\n",
              "      <th>142555</th>\n",
              "      <td>Asia</td>\n",
              "      <td>Taiwan</td>\n",
              "      <td>2022-02-10</td>\n",
              "      <td>19376.0</td>\n",
              "      <td>59.714</td>\n",
              "      <td>851.0</td>\n",
              "      <td>0.0</td>\n",
              "      <td>812.240</td>\n",
              "      <td>2.503</td>\n",
              "      <td>35.674</td>\n",
              "      <td>0.0</td>\n",
              "      <td>NaN</td>\n",
              "      <td>NaN</td>\n",
              "      <td>23855008.0</td>\n",
              "      <td>NaN</td>\n",
              "      <td>42.2</td>\n",
              "      <td>NaN</td>\n",
              "      <td>8.353</td>\n",
              "      <td>NaN</td>\n",
              "      <td>103.957</td>\n",
              "      <td>NaN</td>\n",
              "      <td>NaN</td>\n",
              "      <td>NaN</td>\n",
              "      <td>NaN</td>\n",
              "      <td>80.46</td>\n",
              "      <td>NaN</td>\n",
              "    </tr>\n",
              "    <tr>\n",
              "      <th>142556</th>\n",
              "      <td>Asia</td>\n",
              "      <td>Taiwan</td>\n",
              "      <td>2022-02-11</td>\n",
              "      <td>19455.0</td>\n",
              "      <td>60.857</td>\n",
              "      <td>851.0</td>\n",
              "      <td>0.0</td>\n",
              "      <td>815.552</td>\n",
              "      <td>2.551</td>\n",
              "      <td>35.674</td>\n",
              "      <td>0.0</td>\n",
              "      <td>NaN</td>\n",
              "      <td>NaN</td>\n",
              "      <td>23855008.0</td>\n",
              "      <td>NaN</td>\n",
              "      <td>42.2</td>\n",
              "      <td>NaN</td>\n",
              "      <td>8.353</td>\n",
              "      <td>NaN</td>\n",
              "      <td>103.957</td>\n",
              "      <td>NaN</td>\n",
              "      <td>NaN</td>\n",
              "      <td>NaN</td>\n",
              "      <td>NaN</td>\n",
              "      <td>80.46</td>\n",
              "      <td>NaN</td>\n",
              "    </tr>\n",
              "    <tr>\n",
              "      <th>142557</th>\n",
              "      <td>Asia</td>\n",
              "      <td>Taiwan</td>\n",
              "      <td>2022-02-12</td>\n",
              "      <td>19515.0</td>\n",
              "      <td>59.143</td>\n",
              "      <td>851.0</td>\n",
              "      <td>0.0</td>\n",
              "      <td>818.067</td>\n",
              "      <td>2.479</td>\n",
              "      <td>35.674</td>\n",
              "      <td>0.0</td>\n",
              "      <td>NaN</td>\n",
              "      <td>NaN</td>\n",
              "      <td>23855008.0</td>\n",
              "      <td>NaN</td>\n",
              "      <td>42.2</td>\n",
              "      <td>NaN</td>\n",
              "      <td>8.353</td>\n",
              "      <td>NaN</td>\n",
              "      <td>103.957</td>\n",
              "      <td>NaN</td>\n",
              "      <td>NaN</td>\n",
              "      <td>NaN</td>\n",
              "      <td>NaN</td>\n",
              "      <td>80.46</td>\n",
              "      <td>NaN</td>\n",
              "    </tr>\n",
              "  </tbody>\n",
              "</table>\n",
              "</div>\n",
              "      <button class=\"colab-df-convert\" onclick=\"convertToInteractive('df-2a0da7bf-226d-4023-9f35-6b4f24dd9244')\"\n",
              "              title=\"Convert this dataframe to an interactive table.\"\n",
              "              style=\"display:none;\">\n",
              "        \n",
              "  <svg xmlns=\"http://www.w3.org/2000/svg\" height=\"24px\"viewBox=\"0 0 24 24\"\n",
              "       width=\"24px\">\n",
              "    <path d=\"M0 0h24v24H0V0z\" fill=\"none\"/>\n",
              "    <path d=\"M18.56 5.44l.94 2.06.94-2.06 2.06-.94-2.06-.94-.94-2.06-.94 2.06-2.06.94zm-11 1L8.5 8.5l.94-2.06 2.06-.94-2.06-.94L8.5 2.5l-.94 2.06-2.06.94zm10 10l.94 2.06.94-2.06 2.06-.94-2.06-.94-.94-2.06-.94 2.06-2.06.94z\"/><path d=\"M17.41 7.96l-1.37-1.37c-.4-.4-.92-.59-1.43-.59-.52 0-1.04.2-1.43.59L10.3 9.45l-7.72 7.72c-.78.78-.78 2.05 0 2.83L4 21.41c.39.39.9.59 1.41.59.51 0 1.02-.2 1.41-.59l7.78-7.78 2.81-2.81c.8-.78.8-2.07 0-2.86zM5.41 20L4 18.59l7.72-7.72 1.47 1.35L5.41 20z\"/>\n",
              "  </svg>\n",
              "      </button>\n",
              "      \n",
              "  <style>\n",
              "    .colab-df-container {\n",
              "      display:flex;\n",
              "      flex-wrap:wrap;\n",
              "      gap: 12px;\n",
              "    }\n",
              "\n",
              "    .colab-df-convert {\n",
              "      background-color: #E8F0FE;\n",
              "      border: none;\n",
              "      border-radius: 50%;\n",
              "      cursor: pointer;\n",
              "      display: none;\n",
              "      fill: #1967D2;\n",
              "      height: 32px;\n",
              "      padding: 0 0 0 0;\n",
              "      width: 32px;\n",
              "    }\n",
              "\n",
              "    .colab-df-convert:hover {\n",
              "      background-color: #E2EBFA;\n",
              "      box-shadow: 0px 1px 2px rgba(60, 64, 67, 0.3), 0px 1px 3px 1px rgba(60, 64, 67, 0.15);\n",
              "      fill: #174EA6;\n",
              "    }\n",
              "\n",
              "    [theme=dark] .colab-df-convert {\n",
              "      background-color: #3B4455;\n",
              "      fill: #D2E3FC;\n",
              "    }\n",
              "\n",
              "    [theme=dark] .colab-df-convert:hover {\n",
              "      background-color: #434B5C;\n",
              "      box-shadow: 0px 1px 3px 1px rgba(0, 0, 0, 0.15);\n",
              "      filter: drop-shadow(0px 1px 2px rgba(0, 0, 0, 0.3));\n",
              "      fill: #FFFFFF;\n",
              "    }\n",
              "  </style>\n",
              "\n",
              "      <script>\n",
              "        const buttonEl =\n",
              "          document.querySelector('#df-2a0da7bf-226d-4023-9f35-6b4f24dd9244 button.colab-df-convert');\n",
              "        buttonEl.style.display =\n",
              "          google.colab.kernel.accessAllowed ? 'block' : 'none';\n",
              "\n",
              "        async function convertToInteractive(key) {\n",
              "          const element = document.querySelector('#df-2a0da7bf-226d-4023-9f35-6b4f24dd9244');\n",
              "          const dataTable =\n",
              "            await google.colab.kernel.invokeFunction('convertToInteractive',\n",
              "                                                     [key], {});\n",
              "          if (!dataTable) return;\n",
              "\n",
              "          const docLinkHtml = 'Like what you see? Visit the ' +\n",
              "            '<a target=\"_blank\" href=https://colab.research.google.com/notebooks/data_table.ipynb>data table notebook</a>'\n",
              "            + ' to learn more about interactive tables.';\n",
              "          element.innerHTML = '';\n",
              "          dataTable['output_type'] = 'display_data';\n",
              "          await google.colab.output.renderOutput(dataTable, element);\n",
              "          const docLink = document.createElement('div');\n",
              "          docLink.innerHTML = docLinkHtml;\n",
              "          element.appendChild(docLink);\n",
              "        }\n",
              "      </script>\n",
              "    </div>\n",
              "  </div>\n",
              "  "
            ],
            "text/plain": [
              "       continent location  ... life_expectancy  human_development_index\n",
              "142553      Asia   Taiwan  ...           80.46                      NaN\n",
              "142554      Asia   Taiwan  ...           80.46                      NaN\n",
              "142555      Asia   Taiwan  ...           80.46                      NaN\n",
              "142556      Asia   Taiwan  ...           80.46                      NaN\n",
              "142557      Asia   Taiwan  ...           80.46                      NaN\n",
              "\n",
              "[5 rows x 26 columns]"
            ]
          },
          "metadata": {},
          "execution_count": 131
        }
      ]
    },
    {
      "cell_type": "code",
      "source": [
        "index_stringency_index = owid.columns.get_loc('stringency_index')\n",
        "\n",
        "counter = 0\n",
        "\n",
        "while counter < index_stringency_index:\n",
        "  owid.iloc[:, counter].fillna(0, inplace=True)\n",
        "  counter += 1"
      ],
      "metadata": {
        "id": "56cONXn7e3_c"
      },
      "execution_count": 132,
      "outputs": []
    },
    {
      "cell_type": "code",
      "source": [
        "owid.info()"
      ],
      "metadata": {
        "colab": {
          "base_uri": "https://localhost:8080/"
        },
        "id": "McEfmGQWe4lM",
        "outputId": "47d4a8b0-9e65-4434-f334-7aa07e4fc14f"
      },
      "execution_count": 133,
      "outputs": [
        {
          "output_type": "stream",
          "name": "stdout",
          "text": [
            "<class 'pandas.core.frame.DataFrame'>\n",
            "RangeIndex: 161390 entries, 0 to 161389\n",
            "Data columns (total 26 columns):\n",
            " #   Column                           Non-Null Count   Dtype  \n",
            "---  ------                           --------------   -----  \n",
            " 0   continent                        161390 non-null  object \n",
            " 1   location                         161390 non-null  object \n",
            " 2   date                             161390 non-null  object \n",
            " 3   total_cases                      161390 non-null  float64\n",
            " 4   new_cases_smoothed               161390 non-null  float64\n",
            " 5   total_deaths                     161390 non-null  float64\n",
            " 6   new_deaths_smoothed              161390 non-null  float64\n",
            " 7   total_cases_per_million          161390 non-null  float64\n",
            " 8   new_cases_smoothed_per_million   161390 non-null  float64\n",
            " 9   total_deaths_per_million         161390 non-null  float64\n",
            " 10  new_deaths_smoothed_per_million  161390 non-null  float64\n",
            " 11  reproduction_rate                161390 non-null  float64\n",
            " 12  stringency_index                 126199 non-null  float64\n",
            " 13  population                       160336 non-null  float64\n",
            " 14  population_density               143651 non-null  float64\n",
            " 15  median_age                       133876 non-null  float64\n",
            " 16  aged_65_older                    132424 non-null  float64\n",
            " 17  aged_70_older                    133158 non-null  float64\n",
            " 18  gdp_per_capita                   134500 non-null  float64\n",
            " 19  cardiovasc_death_rate            132844 non-null  float64\n",
            " 20  diabetes_prevalence              139805 non-null  float64\n",
            " 21  female_smokers                   103019 non-null  float64\n",
            " 22  male_smokers                     101541 non-null  float64\n",
            " 23  hospital_beds_per_thousand       120129 non-null  float64\n",
            " 24  life_expectancy                  150646 non-null  float64\n",
            " 25  human_development_index          132319 non-null  float64\n",
            "dtypes: float64(23), object(3)\n",
            "memory usage: 32.0+ MB\n"
          ]
        }
      ]
    },
    {
      "cell_type": "code",
      "source": [
        "owid[owid['gdp_per_capita'].isnull()]['location'].unique()"
      ],
      "metadata": {
        "colab": {
          "base_uri": "https://localhost:8080/"
        },
        "id": "9dcJrETSfAZr",
        "outputId": "09227d8a-893d-48ae-8bbd-e3940f754ae9"
      },
      "execution_count": 134,
      "outputs": [
        {
          "output_type": "execute_result",
          "data": {
            "text/plain": [
              "array(['Africa', 'Andorra', 'Anguilla', 'Asia',\n",
              "       'Bonaire Sint Eustatius and Saba', 'British Virgin Islands',\n",
              "       'Cook Islands', 'Cuba', 'Curacao', 'Europe', 'European Union',\n",
              "       'Faeroe Islands', 'Falkland Islands', 'French Polynesia',\n",
              "       'Gibraltar', 'Greenland', 'Guernsey', 'High income',\n",
              "       'International', 'Isle of Man', 'Jersey', 'Liechtenstein',\n",
              "       'Low income', 'Lower middle income', 'Monaco', 'Montserrat',\n",
              "       'New Caledonia', 'Niue', 'North America', 'Northern Cyprus',\n",
              "       'Oceania', 'Pitcairn', 'Saint Helena', 'Saint Pierre and Miquelon',\n",
              "       'Somalia', 'South America', 'Syria', 'Taiwan', 'Tokelau',\n",
              "       'Turks and Caicos Islands', 'Upper middle income', 'Vatican',\n",
              "       'Wallis and Futuna'], dtype=object)"
            ]
          },
          "metadata": {},
          "execution_count": 134
        }
      ]
    },
    {
      "cell_type": "code",
      "source": [
        "owid.info()"
      ],
      "metadata": {
        "colab": {
          "base_uri": "https://localhost:8080/"
        },
        "id": "TpeCZHQWg6lx",
        "outputId": "65314deb-9ca3-4dd9-e84c-3215acf3838f"
      },
      "execution_count": 135,
      "outputs": [
        {
          "output_type": "stream",
          "name": "stdout",
          "text": [
            "<class 'pandas.core.frame.DataFrame'>\n",
            "RangeIndex: 161390 entries, 0 to 161389\n",
            "Data columns (total 26 columns):\n",
            " #   Column                           Non-Null Count   Dtype  \n",
            "---  ------                           --------------   -----  \n",
            " 0   continent                        161390 non-null  object \n",
            " 1   location                         161390 non-null  object \n",
            " 2   date                             161390 non-null  object \n",
            " 3   total_cases                      161390 non-null  float64\n",
            " 4   new_cases_smoothed               161390 non-null  float64\n",
            " 5   total_deaths                     161390 non-null  float64\n",
            " 6   new_deaths_smoothed              161390 non-null  float64\n",
            " 7   total_cases_per_million          161390 non-null  float64\n",
            " 8   new_cases_smoothed_per_million   161390 non-null  float64\n",
            " 9   total_deaths_per_million         161390 non-null  float64\n",
            " 10  new_deaths_smoothed_per_million  161390 non-null  float64\n",
            " 11  reproduction_rate                161390 non-null  float64\n",
            " 12  stringency_index                 126199 non-null  float64\n",
            " 13  population                       160336 non-null  float64\n",
            " 14  population_density               143651 non-null  float64\n",
            " 15  median_age                       133876 non-null  float64\n",
            " 16  aged_65_older                    132424 non-null  float64\n",
            " 17  aged_70_older                    133158 non-null  float64\n",
            " 18  gdp_per_capita                   134500 non-null  float64\n",
            " 19  cardiovasc_death_rate            132844 non-null  float64\n",
            " 20  diabetes_prevalence              139805 non-null  float64\n",
            " 21  female_smokers                   103019 non-null  float64\n",
            " 22  male_smokers                     101541 non-null  float64\n",
            " 23  hospital_beds_per_thousand       120129 non-null  float64\n",
            " 24  life_expectancy                  150646 non-null  float64\n",
            " 25  human_development_index          132319 non-null  float64\n",
            "dtypes: float64(23), object(3)\n",
            "memory usage: 32.0+ MB\n"
          ]
        }
      ]
    },
    {
      "cell_type": "code",
      "source": [
        "owid[owid['population'].isnull()]['location'].unique()"
      ],
      "metadata": {
        "colab": {
          "base_uri": "https://localhost:8080/"
        },
        "id": "5iYwCBl0ix5h",
        "outputId": "b31aed75-f0a6-4870-80d8-a227635f4b2d"
      },
      "execution_count": 136,
      "outputs": [
        {
          "output_type": "execute_result",
          "data": {
            "text/plain": [
              "array(['International', 'Northern Cyprus'], dtype=object)"
            ]
          },
          "metadata": {},
          "execution_count": 136
        }
      ]
    },
    {
      "cell_type": "code",
      "source": [
        "owid.loc[owid['location'] == 'International', 'population'] = 7900000000"
      ],
      "metadata": {
        "id": "NWnQkcfhjMYe"
      },
      "execution_count": 137,
      "outputs": []
    },
    {
      "cell_type": "code",
      "source": [
        "owid[owid['location'] == 'International']['population']"
      ],
      "metadata": {
        "colab": {
          "base_uri": "https://localhost:8080/"
        },
        "id": "p4ljX8lNkc9a",
        "outputId": "bb0bbab0-379e-46fa-c6a1-3cafde2630c0"
      },
      "execution_count": 138,
      "outputs": [
        {
          "output_type": "execute_result",
          "data": {
            "text/plain": [
              "69091    7.900000e+09\n",
              "69092    7.900000e+09\n",
              "69093    7.900000e+09\n",
              "69094    7.900000e+09\n",
              "69095    7.900000e+09\n",
              "             ...     \n",
              "69823    7.900000e+09\n",
              "69824    7.900000e+09\n",
              "69825    7.900000e+09\n",
              "69826    7.900000e+09\n",
              "69827    7.900000e+09\n",
              "Name: population, Length: 737, dtype: float64"
            ]
          },
          "metadata": {},
          "execution_count": 138
        }
      ]
    },
    {
      "cell_type": "code",
      "source": [
        "owid.loc[owid['location'] == 'Northern Cyprus', 'population'] = 326000"
      ],
      "metadata": {
        "id": "LSeo-KEGmjq_"
      },
      "execution_count": 139,
      "outputs": []
    },
    {
      "cell_type": "code",
      "source": [
        "str(owid['population'].count()) + ' truthy values out of ' + str(len(owid))"
      ],
      "metadata": {
        "colab": {
          "base_uri": "https://localhost:8080/",
          "height": 35
        },
        "id": "pSSbj2HDnA6v",
        "outputId": "3c80ecfe-ceae-4988-f195-cc3bc4cb9644"
      },
      "execution_count": 140,
      "outputs": [
        {
          "output_type": "execute_result",
          "data": {
            "application/vnd.google.colaboratory.intrinsic+json": {
              "type": "string"
            },
            "text/plain": [
              "'161390 truthy values out of 161390'"
            ]
          },
          "metadata": {},
          "execution_count": 140
        }
      ]
    },
    {
      "cell_type": "code",
      "source": [
        "owid[owid['population_density'].isnull()]['location'].unique()"
      ],
      "metadata": {
        "colab": {
          "base_uri": "https://localhost:8080/"
        },
        "id": "pYU8_oLhnVtq",
        "outputId": "e9fd0534-18e5-496f-8751-383f15e9996f"
      },
      "execution_count": 141,
      "outputs": [
        {
          "output_type": "execute_result",
          "data": {
            "text/plain": [
              "array(['Africa', 'Anguilla', 'Asia', 'Bonaire Sint Eustatius and Saba',\n",
              "       'Cook Islands', 'Europe', 'European Union', 'Falkland Islands',\n",
              "       'Guernsey', 'High income', 'International', 'Jersey', 'Low income',\n",
              "       'Lower middle income', 'Montserrat', 'Niue', 'North America',\n",
              "       'Northern Cyprus', 'Oceania', 'Pitcairn', 'Saint Helena',\n",
              "       'Saint Pierre and Miquelon', 'South America', 'South Sudan',\n",
              "       'Syria', 'Taiwan', 'Tokelau', 'Upper middle income', 'Vatican',\n",
              "       'Wallis and Futuna'], dtype=object)"
            ]
          },
          "metadata": {},
          "execution_count": 141
        }
      ]
    },
    {
      "cell_type": "code",
      "source": [
        "owid.drop('population_density', axis=1, inplace=True)"
      ],
      "metadata": {
        "id": "hSAp_wPInrzj"
      },
      "execution_count": 142,
      "outputs": []
    },
    {
      "cell_type": "code",
      "source": [
        "owid.info()"
      ],
      "metadata": {
        "colab": {
          "base_uri": "https://localhost:8080/"
        },
        "id": "oIXILhjyoqm3",
        "outputId": "daf4927a-7eca-4937-eb04-96175f43d1e3"
      },
      "execution_count": 143,
      "outputs": [
        {
          "output_type": "stream",
          "name": "stdout",
          "text": [
            "<class 'pandas.core.frame.DataFrame'>\n",
            "RangeIndex: 161390 entries, 0 to 161389\n",
            "Data columns (total 25 columns):\n",
            " #   Column                           Non-Null Count   Dtype  \n",
            "---  ------                           --------------   -----  \n",
            " 0   continent                        161390 non-null  object \n",
            " 1   location                         161390 non-null  object \n",
            " 2   date                             161390 non-null  object \n",
            " 3   total_cases                      161390 non-null  float64\n",
            " 4   new_cases_smoothed               161390 non-null  float64\n",
            " 5   total_deaths                     161390 non-null  float64\n",
            " 6   new_deaths_smoothed              161390 non-null  float64\n",
            " 7   total_cases_per_million          161390 non-null  float64\n",
            " 8   new_cases_smoothed_per_million   161390 non-null  float64\n",
            " 9   total_deaths_per_million         161390 non-null  float64\n",
            " 10  new_deaths_smoothed_per_million  161390 non-null  float64\n",
            " 11  reproduction_rate                161390 non-null  float64\n",
            " 12  stringency_index                 126199 non-null  float64\n",
            " 13  population                       161390 non-null  float64\n",
            " 14  median_age                       133876 non-null  float64\n",
            " 15  aged_65_older                    132424 non-null  float64\n",
            " 16  aged_70_older                    133158 non-null  float64\n",
            " 17  gdp_per_capita                   134500 non-null  float64\n",
            " 18  cardiovasc_death_rate            132844 non-null  float64\n",
            " 19  diabetes_prevalence              139805 non-null  float64\n",
            " 20  female_smokers                   103019 non-null  float64\n",
            " 21  male_smokers                     101541 non-null  float64\n",
            " 22  hospital_beds_per_thousand       120129 non-null  float64\n",
            " 23  life_expectancy                  150646 non-null  float64\n",
            " 24  human_development_index          132319 non-null  float64\n",
            "dtypes: float64(22), object(3)\n",
            "memory usage: 30.8+ MB\n"
          ]
        }
      ]
    },
    {
      "cell_type": "code",
      "source": [
        "owid.groupby('continent')['female_smokers'].mean()"
      ],
      "metadata": {
        "colab": {
          "base_uri": "https://localhost:8080/"
        },
        "id": "xDXYdLF_rzSL",
        "outputId": "d0d1b0c6-bfcf-486c-ae50-04d6d4737598"
      },
      "execution_count": 144,
      "outputs": [
        {
          "output_type": "execute_result",
          "data": {
            "text/plain": [
              "continent\n",
              "Africa            2.578772\n",
              "Asia              4.788422\n",
              "Europe           23.392635\n",
              "North America     7.031492\n",
              "Oceania          16.502537\n",
              "South America    10.961463\n",
              "World             6.434000\n",
              "Name: female_smokers, dtype: float64"
            ]
          },
          "metadata": {},
          "execution_count": 144
        }
      ]
    },
    {
      "cell_type": "code",
      "source": [
        "continents = ['Africa', 'Asia', 'Europe', 'North America', 'Oceania', 'South America', 'World']\n",
        "\n",
        "def filling_the_na_values_with_means(column):\n",
        "  list_of_means = owid.groupby('continent')[column].mean().tolist()\n",
        "  zipped_list = [(x, y) for x, y in zip(continents, list_of_means)]\n",
        "\n",
        "  for i in zipped_list:\n",
        "    owid[(owid['continent'] == i[0]) & (owid[column].isnull())] = i[1]"
      ],
      "metadata": {
        "id": "VX1pYB6lpmeO"
      },
      "execution_count": 165,
      "outputs": []
    },
    {
      "cell_type": "code",
      "source": [
        "for column in owid.columns[index_stringency_index + 2:]:\n",
        "  filling_the_na_values_with_means(column)"
      ],
      "metadata": {
        "id": "_GBk2NiRtGDN"
      },
      "execution_count": 166,
      "outputs": []
    },
    {
      "cell_type": "code",
      "source": [
        "filling_the_na_values_with_means('stringency_index')"
      ],
      "metadata": {
        "id": "3MjOPknJ30aA"
      },
      "execution_count": 168,
      "outputs": []
    },
    {
      "cell_type": "code",
      "source": [
        "owid.info()"
      ],
      "metadata": {
        "colab": {
          "base_uri": "https://localhost:8080/"
        },
        "id": "gW3ZVOKf39b4",
        "outputId": "a33fb6e1-9834-45b5-93bd-43b52af8ff23"
      },
      "execution_count": 169,
      "outputs": [
        {
          "output_type": "stream",
          "name": "stdout",
          "text": [
            "<class 'pandas.core.frame.DataFrame'>\n",
            "RangeIndex: 161390 entries, 0 to 161389\n",
            "Data columns (total 25 columns):\n",
            " #   Column                           Non-Null Count   Dtype  \n",
            "---  ------                           --------------   -----  \n",
            " 0   continent                        161390 non-null  object \n",
            " 1   location                         161390 non-null  object \n",
            " 2   date                             161390 non-null  object \n",
            " 3   total_cases                      161390 non-null  float64\n",
            " 4   new_cases_smoothed               161390 non-null  float64\n",
            " 5   total_deaths                     161390 non-null  float64\n",
            " 6   new_deaths_smoothed              161390 non-null  float64\n",
            " 7   total_cases_per_million          161390 non-null  float64\n",
            " 8   new_cases_smoothed_per_million   161390 non-null  float64\n",
            " 9   total_deaths_per_million         161390 non-null  float64\n",
            " 10  new_deaths_smoothed_per_million  161390 non-null  float64\n",
            " 11  reproduction_rate                161390 non-null  float64\n",
            " 12  stringency_index                 161390 non-null  float64\n",
            " 13  population                       161390 non-null  float64\n",
            " 14  median_age                       161390 non-null  float64\n",
            " 15  aged_65_older                    161390 non-null  float64\n",
            " 16  aged_70_older                    161390 non-null  float64\n",
            " 17  gdp_per_capita                   161390 non-null  float64\n",
            " 18  cardiovasc_death_rate            161390 non-null  float64\n",
            " 19  diabetes_prevalence              161390 non-null  float64\n",
            " 20  female_smokers                   161390 non-null  float64\n",
            " 21  male_smokers                     161390 non-null  float64\n",
            " 22  hospital_beds_per_thousand       161390 non-null  float64\n",
            " 23  life_expectancy                  161390 non-null  float64\n",
            " 24  human_development_index          161390 non-null  float64\n",
            "dtypes: float64(22), object(3)\n",
            "memory usage: 30.8+ MB\n"
          ]
        }
      ]
    },
    {
      "cell_type": "code",
      "source": [
        ""
      ],
      "metadata": {
        "id": "obUC1ok358bx"
      },
      "execution_count": null,
      "outputs": []
    }
  ]
}